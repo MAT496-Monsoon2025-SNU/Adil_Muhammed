{
 "cells": [
  {
   "cell_type": "code",
   "execution_count": 2,
   "id": "8cf11c47",
   "metadata": {},
   "outputs": [
    {
     "data": {
      "text/plain": [
       "True"
      ]
     },
     "execution_count": 2,
     "metadata": {},
     "output_type": "execute_result"
    }
   ],
   "source": [
    "from dotenv import load_dotenv\n",
    "load_dotenv(override=True)"
   ]
  },
  {
   "cell_type": "markdown",
   "id": "4c616bc7",
   "metadata": {},
   "source": [
    "# Learning to have conversation with LLM"
   ]
  },
  {
   "cell_type": "code",
   "execution_count": 3,
   "id": "f89a6d9b",
   "metadata": {},
   "outputs": [],
   "source": [
    "# pick a model\n",
    "from langchain.chat_models import init_chat_model\n",
    "llm = init_chat_model(\"llama-3.3-70b-versatile\", model_provider=\"groq\")"
   ]
  },
  {
   "cell_type": "markdown",
   "id": "37126d86",
   "metadata": {},
   "source": [
    "### Create your tools"
   ]
  },
  {
   "cell_type": "code",
   "execution_count": 27,
   "id": "63524d6c",
   "metadata": {},
   "outputs": [],
   "source": [
    "from langchain_core.tools import tool\n",
    "\n",
    "@tool\n",
    "def statement() -> str:\n",
    "    \"\"\" Call this tool if the sentenc is a statement\"\"\"\n",
    "    return \"The sentence given is a statement\"\n",
    "\n",
    "\n",
    "@tool\n",
    "def question() -> str:\n",
    "    \"\"\" Call this tool if the sentenc is a question\"\"\"\n",
    "    return \"The sentence given is a question\"\n",
    "\n",
    "\n",
    "@tool\n",
    "def motivation() -> str:\n",
    "    \"\"\" Call this tool if the sentenc is motivational\"\"\"\n",
    "    return \"The sentence given is motivational\"\n"
   ]
  },
  {
   "cell_type": "code",
   "execution_count": 28,
   "id": "97bf49be",
   "metadata": {},
   "outputs": [],
   "source": [
    "tools_list = [statement, question, motivation]\n",
    "tools_dict = {t.name: t for t in tools_list} # comes in handy at the time of invokation"
   ]
  },
  {
   "cell_type": "code",
   "execution_count": 29,
   "id": "55e761b0",
   "metadata": {},
   "outputs": [],
   "source": [
    "# we create a tool calling Agent by binding a list of tools to the llm\n",
    "llm_with_tools = llm.bind_tools(tools_list)"
   ]
  },
  {
   "cell_type": "code",
   "execution_count": 42,
   "id": "95042e48",
   "metadata": {},
   "outputs": [],
   "source": [
    "from langchain_core.messages import HumanMessage, SystemMessage, AIMessage, ToolMessage\n",
    "\n",
    "# This will store all converation\n",
    "chat_history = [\n",
    "    SystemMessage(content=\"You are a bot which analyses given sentences and identify what type of sentence it is and call appopriate tool functions\")\n",
    "    ]"
   ]
  },
  {
   "cell_type": "code",
   "execution_count": 43,
   "id": "bbabc17b",
   "metadata": {},
   "outputs": [
    {
     "data": {
      "text/plain": [
       "AIMessage(content='', additional_kwargs={'tool_calls': [{'id': '2vnmv60b6', 'function': {'arguments': '{\"motivation\":\"You have what it takes\"}', 'name': 'motivation'}, 'type': 'function'}]}, response_metadata={'token_usage': {'completion_tokens': 20, 'prompt_tokens': 336, 'total_tokens': 356, 'completion_time': 0.051793633, 'prompt_time': 0.047303272, 'queue_time': 0.154617418, 'total_time': 0.099096905}, 'model_name': 'llama-3.3-70b-versatile', 'system_fingerprint': 'fp_155ab82e98', 'service_tier': 'on_demand', 'finish_reason': 'tool_calls', 'logprobs': None}, id='run--9647750d-4649-44f2-a033-5f824f9766ef-0', tool_calls=[{'name': 'motivation', 'args': {'motivation': 'You have what it takes'}, 'id': '2vnmv60b6', 'type': 'tool_call'}], usage_metadata={'input_tokens': 336, 'output_tokens': 20, 'total_tokens': 356})"
      ]
     },
     "execution_count": 43,
     "metadata": {},
     "output_type": "execute_result"
    }
   ],
   "source": [
    "chat_history.append(HumanMessage(content=\"Come on you have what it takes\"))\n",
    "\n",
    "response = llm_with_tools.invoke(chat_history)\n",
    "response"
   ]
  },
  {
   "cell_type": "code",
   "execution_count": 44,
   "id": "99a1a01a",
   "metadata": {},
   "outputs": [
    {
     "data": {
      "text/plain": [
       "[SystemMessage(content='You are a bot which analyses given sentences and identify what type of sentence it is and call appopriate tool functions', additional_kwargs={}, response_metadata={}),\n",
       " HumanMessage(content='Come on you have what it takes', additional_kwargs={}, response_metadata={}),\n",
       " AIMessage(content='', additional_kwargs={'tool_calls': [{'id': '2vnmv60b6', 'function': {'arguments': '{\"motivation\":\"You have what it takes\"}', 'name': 'motivation'}, 'type': 'function'}]}, response_metadata={'token_usage': {'completion_tokens': 20, 'prompt_tokens': 336, 'total_tokens': 356, 'completion_time': 0.051793633, 'prompt_time': 0.047303272, 'queue_time': 0.154617418, 'total_time': 0.099096905}, 'model_name': 'llama-3.3-70b-versatile', 'system_fingerprint': 'fp_155ab82e98', 'service_tier': 'on_demand', 'finish_reason': 'tool_calls', 'logprobs': None}, id='run--9647750d-4649-44f2-a033-5f824f9766ef-0', tool_calls=[{'name': 'motivation', 'args': {'motivation': 'You have what it takes'}, 'id': '2vnmv60b6', 'type': 'tool_call'}], usage_metadata={'input_tokens': 336, 'output_tokens': 20, 'total_tokens': 356})]"
      ]
     },
     "execution_count": 44,
     "metadata": {},
     "output_type": "execute_result"
    }
   ],
   "source": [
    "chat_history.append(response)\n",
    "chat_history"
   ]
  },
  {
   "cell_type": "code",
   "execution_count": 45,
   "id": "dcaa5020",
   "metadata": {},
   "outputs": [
    {
     "data": {
      "text/plain": [
       "[SystemMessage(content='You are a bot which analyses given sentences and identify what type of sentence it is and call appopriate tool functions', additional_kwargs={}, response_metadata={}),\n",
       " HumanMessage(content='Come on you have what it takes', additional_kwargs={}, response_metadata={}),\n",
       " AIMessage(content='', additional_kwargs={'tool_calls': [{'id': '2vnmv60b6', 'function': {'arguments': '{\"motivation\":\"You have what it takes\"}', 'name': 'motivation'}, 'type': 'function'}]}, response_metadata={'token_usage': {'completion_tokens': 20, 'prompt_tokens': 336, 'total_tokens': 356, 'completion_time': 0.051793633, 'prompt_time': 0.047303272, 'queue_time': 0.154617418, 'total_time': 0.099096905}, 'model_name': 'llama-3.3-70b-versatile', 'system_fingerprint': 'fp_155ab82e98', 'service_tier': 'on_demand', 'finish_reason': 'tool_calls', 'logprobs': None}, id='run--9647750d-4649-44f2-a033-5f824f9766ef-0', tool_calls=[{'name': 'motivation', 'args': {'motivation': 'You have what it takes'}, 'id': '2vnmv60b6', 'type': 'tool_call'}], usage_metadata={'input_tokens': 336, 'output_tokens': 20, 'total_tokens': 356}),\n",
       " ToolMessage(content='The sentence given is motivational', name='motivation', tool_call_id='2vnmv60b6')]"
      ]
     },
     "execution_count": 45,
     "metadata": {},
     "output_type": "execute_result"
    }
   ],
   "source": [
    "# Since there was a tool call, execute the tool and append the tool output in the converation\n",
    "\n",
    "chat_history.append(tools_dict[response.tool_calls[0][\"name\"]].invoke(response.tool_calls[0]))\n",
    "chat_history"
   ]
  },
  {
   "cell_type": "code",
   "execution_count": 46,
   "id": "1a6ac75f",
   "metadata": {},
   "outputs": [
    {
     "data": {
      "text/plain": [
       "AIMessage(content='', additional_kwargs={'tool_calls': [{'id': '4ha57vkrw', 'function': {'arguments': 'null', 'name': 'question'}, 'type': 'function'}]}, response_metadata={'token_usage': {'completion_tokens': 8, 'prompt_tokens': 381, 'total_tokens': 389, 'completion_time': 0.022561414, 'prompt_time': 0.032190368, 'queue_time': 0.050490812, 'total_time': 0.054751782}, 'model_name': 'llama-3.3-70b-versatile', 'system_fingerprint': 'fp_2ddfbb0da0', 'service_tier': 'on_demand', 'finish_reason': 'tool_calls', 'logprobs': None}, id='run--6234da78-f9ce-488d-a831-1d9e9b8daf20-0', tool_calls=[{'name': 'question', 'args': {}, 'id': '4ha57vkrw', 'type': 'tool_call'}], usage_metadata={'input_tokens': 381, 'output_tokens': 8, 'total_tokens': 389})"
      ]
     },
     "execution_count": 46,
     "metadata": {},
     "output_type": "execute_result"
    }
   ],
   "source": [
    "chat_history.append(HumanMessage(content=\"why are you running?\"))\n",
    "response = llm_with_tools.invoke(chat_history)\n",
    "response"
   ]
  },
  {
   "cell_type": "code",
   "execution_count": 47,
   "id": "4ef1d73f",
   "metadata": {},
   "outputs": [
    {
     "data": {
      "text/plain": [
       "[SystemMessage(content='You are a bot which analyses given sentences and identify what type of sentence it is and call appopriate tool functions', additional_kwargs={}, response_metadata={}),\n",
       " HumanMessage(content='Come on you have what it takes', additional_kwargs={}, response_metadata={}),\n",
       " AIMessage(content='', additional_kwargs={'tool_calls': [{'id': '2vnmv60b6', 'function': {'arguments': '{\"motivation\":\"You have what it takes\"}', 'name': 'motivation'}, 'type': 'function'}]}, response_metadata={'token_usage': {'completion_tokens': 20, 'prompt_tokens': 336, 'total_tokens': 356, 'completion_time': 0.051793633, 'prompt_time': 0.047303272, 'queue_time': 0.154617418, 'total_time': 0.099096905}, 'model_name': 'llama-3.3-70b-versatile', 'system_fingerprint': 'fp_155ab82e98', 'service_tier': 'on_demand', 'finish_reason': 'tool_calls', 'logprobs': None}, id='run--9647750d-4649-44f2-a033-5f824f9766ef-0', tool_calls=[{'name': 'motivation', 'args': {'motivation': 'You have what it takes'}, 'id': '2vnmv60b6', 'type': 'tool_call'}], usage_metadata={'input_tokens': 336, 'output_tokens': 20, 'total_tokens': 356}),\n",
       " ToolMessage(content='The sentence given is motivational', name='motivation', tool_call_id='2vnmv60b6'),\n",
       " HumanMessage(content='why are you running?', additional_kwargs={}, response_metadata={}),\n",
       " AIMessage(content='', additional_kwargs={'tool_calls': [{'id': '4ha57vkrw', 'function': {'arguments': 'null', 'name': 'question'}, 'type': 'function'}]}, response_metadata={'token_usage': {'completion_tokens': 8, 'prompt_tokens': 381, 'total_tokens': 389, 'completion_time': 0.022561414, 'prompt_time': 0.032190368, 'queue_time': 0.050490812, 'total_time': 0.054751782}, 'model_name': 'llama-3.3-70b-versatile', 'system_fingerprint': 'fp_2ddfbb0da0', 'service_tier': 'on_demand', 'finish_reason': 'tool_calls', 'logprobs': None}, id='run--6234da78-f9ce-488d-a831-1d9e9b8daf20-0', tool_calls=[{'name': 'question', 'args': {}, 'id': '4ha57vkrw', 'type': 'tool_call'}], usage_metadata={'input_tokens': 381, 'output_tokens': 8, 'total_tokens': 389})]"
      ]
     },
     "execution_count": 47,
     "metadata": {},
     "output_type": "execute_result"
    }
   ],
   "source": [
    "chat_history.append(response)\n",
    "chat_history"
   ]
  },
  {
   "cell_type": "code",
   "execution_count": 48,
   "id": "4207a62b",
   "metadata": {},
   "outputs": [
    {
     "data": {
      "text/plain": [
       "[SystemMessage(content='You are a bot which analyses given sentences and identify what type of sentence it is and call appopriate tool functions', additional_kwargs={}, response_metadata={}),\n",
       " HumanMessage(content='Come on you have what it takes', additional_kwargs={}, response_metadata={}),\n",
       " AIMessage(content='', additional_kwargs={'tool_calls': [{'id': '2vnmv60b6', 'function': {'arguments': '{\"motivation\":\"You have what it takes\"}', 'name': 'motivation'}, 'type': 'function'}]}, response_metadata={'token_usage': {'completion_tokens': 20, 'prompt_tokens': 336, 'total_tokens': 356, 'completion_time': 0.051793633, 'prompt_time': 0.047303272, 'queue_time': 0.154617418, 'total_time': 0.099096905}, 'model_name': 'llama-3.3-70b-versatile', 'system_fingerprint': 'fp_155ab82e98', 'service_tier': 'on_demand', 'finish_reason': 'tool_calls', 'logprobs': None}, id='run--9647750d-4649-44f2-a033-5f824f9766ef-0', tool_calls=[{'name': 'motivation', 'args': {'motivation': 'You have what it takes'}, 'id': '2vnmv60b6', 'type': 'tool_call'}], usage_metadata={'input_tokens': 336, 'output_tokens': 20, 'total_tokens': 356}),\n",
       " ToolMessage(content='The sentence given is motivational', name='motivation', tool_call_id='2vnmv60b6'),\n",
       " HumanMessage(content='why are you running?', additional_kwargs={}, response_metadata={}),\n",
       " AIMessage(content='', additional_kwargs={'tool_calls': [{'id': '4ha57vkrw', 'function': {'arguments': 'null', 'name': 'question'}, 'type': 'function'}]}, response_metadata={'token_usage': {'completion_tokens': 8, 'prompt_tokens': 381, 'total_tokens': 389, 'completion_time': 0.022561414, 'prompt_time': 0.032190368, 'queue_time': 0.050490812, 'total_time': 0.054751782}, 'model_name': 'llama-3.3-70b-versatile', 'system_fingerprint': 'fp_2ddfbb0da0', 'service_tier': 'on_demand', 'finish_reason': 'tool_calls', 'logprobs': None}, id='run--6234da78-f9ce-488d-a831-1d9e9b8daf20-0', tool_calls=[{'name': 'question', 'args': {}, 'id': '4ha57vkrw', 'type': 'tool_call'}], usage_metadata={'input_tokens': 381, 'output_tokens': 8, 'total_tokens': 389}),\n",
       " ToolMessage(content='The sentence given is a question', name='question', tool_call_id='4ha57vkrw')]"
      ]
     },
     "execution_count": 48,
     "metadata": {},
     "output_type": "execute_result"
    }
   ],
   "source": [
    "chat_history.append(tools_dict[response.tool_calls[0][\"name\"]].invoke(response.tool_calls[0]))\n",
    "chat_history"
   ]
  },
  {
   "cell_type": "code",
   "execution_count": 49,
   "id": "a19930cd",
   "metadata": {},
   "outputs": [
    {
     "data": {
      "text/plain": [
       "[SystemMessage(content='You are a bot which analyses given sentences and identify what type of sentence it is and call appopriate tool functions', additional_kwargs={}, response_metadata={}),\n",
       " HumanMessage(content='Come on you have what it takes', additional_kwargs={}, response_metadata={}),\n",
       " AIMessage(content='', additional_kwargs={'tool_calls': [{'id': '2vnmv60b6', 'function': {'arguments': '{\"motivation\":\"You have what it takes\"}', 'name': 'motivation'}, 'type': 'function'}]}, response_metadata={'token_usage': {'completion_tokens': 20, 'prompt_tokens': 336, 'total_tokens': 356, 'completion_time': 0.051793633, 'prompt_time': 0.047303272, 'queue_time': 0.154617418, 'total_time': 0.099096905}, 'model_name': 'llama-3.3-70b-versatile', 'system_fingerprint': 'fp_155ab82e98', 'service_tier': 'on_demand', 'finish_reason': 'tool_calls', 'logprobs': None}, id='run--9647750d-4649-44f2-a033-5f824f9766ef-0', tool_calls=[{'name': 'motivation', 'args': {'motivation': 'You have what it takes'}, 'id': '2vnmv60b6', 'type': 'tool_call'}], usage_metadata={'input_tokens': 336, 'output_tokens': 20, 'total_tokens': 356}),\n",
       " ToolMessage(content='The sentence given is motivational', name='motivation', tool_call_id='2vnmv60b6'),\n",
       " HumanMessage(content='why are you running?', additional_kwargs={}, response_metadata={}),\n",
       " AIMessage(content='', additional_kwargs={'tool_calls': [{'id': '4ha57vkrw', 'function': {'arguments': 'null', 'name': 'question'}, 'type': 'function'}]}, response_metadata={'token_usage': {'completion_tokens': 8, 'prompt_tokens': 381, 'total_tokens': 389, 'completion_time': 0.022561414, 'prompt_time': 0.032190368, 'queue_time': 0.050490812, 'total_time': 0.054751782}, 'model_name': 'llama-3.3-70b-versatile', 'system_fingerprint': 'fp_2ddfbb0da0', 'service_tier': 'on_demand', 'finish_reason': 'tool_calls', 'logprobs': None}, id='run--6234da78-f9ce-488d-a831-1d9e9b8daf20-0', tool_calls=[{'name': 'question', 'args': {}, 'id': '4ha57vkrw', 'type': 'tool_call'}], usage_metadata={'input_tokens': 381, 'output_tokens': 8, 'total_tokens': 389}),\n",
       " ToolMessage(content='The sentence given is a question', name='question', tool_call_id='4ha57vkrw'),\n",
       " HumanMessage(content='I am going to the supermarket', additional_kwargs={}, response_metadata={}),\n",
       " AIMessage(content='', additional_kwargs={'tool_calls': [{'id': 'z87bvhf9q', 'function': {'arguments': '{}', 'name': 'statement'}, 'type': 'function'}]}, response_metadata={'token_usage': {'completion_tokens': 9, 'prompt_tokens': 417, 'total_tokens': 426, 'completion_time': 0.008951379, 'prompt_time': 0.056864334, 'queue_time': 0.046325376, 'total_time': 0.065815713}, 'model_name': 'llama-3.3-70b-versatile', 'system_fingerprint': 'fp_2ddfbb0da0', 'service_tier': 'on_demand', 'finish_reason': 'tool_calls', 'logprobs': None}, id='run--c80eb67c-e53a-43f7-80f3-a62d3857fa0e-0', tool_calls=[{'name': 'statement', 'args': {}, 'id': 'z87bvhf9q', 'type': 'tool_call'}], usage_metadata={'input_tokens': 417, 'output_tokens': 9, 'total_tokens': 426})]"
      ]
     },
     "execution_count": 49,
     "metadata": {},
     "output_type": "execute_result"
    }
   ],
   "source": [
    "chat_history.append(HumanMessage(content=\"I am going to the supermarket\"))\n",
    "response = llm_with_tools.invoke(chat_history)\n",
    "chat_history.append(response)\n",
    "chat_history"
   ]
  },
  {
   "cell_type": "code",
   "execution_count": 50,
   "id": "8ebb5583",
   "metadata": {},
   "outputs": [
    {
     "data": {
      "text/plain": [
       "[SystemMessage(content='You are a bot which analyses given sentences and identify what type of sentence it is and call appopriate tool functions', additional_kwargs={}, response_metadata={}),\n",
       " HumanMessage(content='Come on you have what it takes', additional_kwargs={}, response_metadata={}),\n",
       " AIMessage(content='', additional_kwargs={'tool_calls': [{'id': '2vnmv60b6', 'function': {'arguments': '{\"motivation\":\"You have what it takes\"}', 'name': 'motivation'}, 'type': 'function'}]}, response_metadata={'token_usage': {'completion_tokens': 20, 'prompt_tokens': 336, 'total_tokens': 356, 'completion_time': 0.051793633, 'prompt_time': 0.047303272, 'queue_time': 0.154617418, 'total_time': 0.099096905}, 'model_name': 'llama-3.3-70b-versatile', 'system_fingerprint': 'fp_155ab82e98', 'service_tier': 'on_demand', 'finish_reason': 'tool_calls', 'logprobs': None}, id='run--9647750d-4649-44f2-a033-5f824f9766ef-0', tool_calls=[{'name': 'motivation', 'args': {'motivation': 'You have what it takes'}, 'id': '2vnmv60b6', 'type': 'tool_call'}], usage_metadata={'input_tokens': 336, 'output_tokens': 20, 'total_tokens': 356}),\n",
       " ToolMessage(content='The sentence given is motivational', name='motivation', tool_call_id='2vnmv60b6'),\n",
       " HumanMessage(content='why are you running?', additional_kwargs={}, response_metadata={}),\n",
       " AIMessage(content='', additional_kwargs={'tool_calls': [{'id': '4ha57vkrw', 'function': {'arguments': 'null', 'name': 'question'}, 'type': 'function'}]}, response_metadata={'token_usage': {'completion_tokens': 8, 'prompt_tokens': 381, 'total_tokens': 389, 'completion_time': 0.022561414, 'prompt_time': 0.032190368, 'queue_time': 0.050490812, 'total_time': 0.054751782}, 'model_name': 'llama-3.3-70b-versatile', 'system_fingerprint': 'fp_2ddfbb0da0', 'service_tier': 'on_demand', 'finish_reason': 'tool_calls', 'logprobs': None}, id='run--6234da78-f9ce-488d-a831-1d9e9b8daf20-0', tool_calls=[{'name': 'question', 'args': {}, 'id': '4ha57vkrw', 'type': 'tool_call'}], usage_metadata={'input_tokens': 381, 'output_tokens': 8, 'total_tokens': 389}),\n",
       " ToolMessage(content='The sentence given is a question', name='question', tool_call_id='4ha57vkrw'),\n",
       " HumanMessage(content='I am going to the supermarket', additional_kwargs={}, response_metadata={}),\n",
       " AIMessage(content='', additional_kwargs={'tool_calls': [{'id': 'z87bvhf9q', 'function': {'arguments': '{}', 'name': 'statement'}, 'type': 'function'}]}, response_metadata={'token_usage': {'completion_tokens': 9, 'prompt_tokens': 417, 'total_tokens': 426, 'completion_time': 0.008951379, 'prompt_time': 0.056864334, 'queue_time': 0.046325376, 'total_time': 0.065815713}, 'model_name': 'llama-3.3-70b-versatile', 'system_fingerprint': 'fp_2ddfbb0da0', 'service_tier': 'on_demand', 'finish_reason': 'tool_calls', 'logprobs': None}, id='run--c80eb67c-e53a-43f7-80f3-a62d3857fa0e-0', tool_calls=[{'name': 'statement', 'args': {}, 'id': 'z87bvhf9q', 'type': 'tool_call'}], usage_metadata={'input_tokens': 417, 'output_tokens': 9, 'total_tokens': 426}),\n",
       " AIMessage(content='', additional_kwargs={'tool_calls': [{'id': 'z87bvhf9q', 'function': {'arguments': '{}', 'name': 'statement'}, 'type': 'function'}]}, response_metadata={'token_usage': {'completion_tokens': 9, 'prompt_tokens': 417, 'total_tokens': 426, 'completion_time': 0.008951379, 'prompt_time': 0.056864334, 'queue_time': 0.046325376, 'total_time': 0.065815713}, 'model_name': 'llama-3.3-70b-versatile', 'system_fingerprint': 'fp_2ddfbb0da0', 'service_tier': 'on_demand', 'finish_reason': 'tool_calls', 'logprobs': None}, id='run--c80eb67c-e53a-43f7-80f3-a62d3857fa0e-0', tool_calls=[{'name': 'statement', 'args': {}, 'id': 'z87bvhf9q', 'type': 'tool_call'}], usage_metadata={'input_tokens': 417, 'output_tokens': 9, 'total_tokens': 426})]"
      ]
     },
     "execution_count": 50,
     "metadata": {},
     "output_type": "execute_result"
    }
   ],
   "source": [
    "chat_history.append(response)\n",
    "chat_history"
   ]
  },
  {
   "cell_type": "code",
   "execution_count": 51,
   "id": "d4a1f598",
   "metadata": {},
   "outputs": [
    {
     "data": {
      "text/plain": [
       "[SystemMessage(content='You are a bot which analyses given sentences and identify what type of sentence it is and call appopriate tool functions', additional_kwargs={}, response_metadata={}),\n",
       " HumanMessage(content='Come on you have what it takes', additional_kwargs={}, response_metadata={}),\n",
       " AIMessage(content='', additional_kwargs={'tool_calls': [{'id': '2vnmv60b6', 'function': {'arguments': '{\"motivation\":\"You have what it takes\"}', 'name': 'motivation'}, 'type': 'function'}]}, response_metadata={'token_usage': {'completion_tokens': 20, 'prompt_tokens': 336, 'total_tokens': 356, 'completion_time': 0.051793633, 'prompt_time': 0.047303272, 'queue_time': 0.154617418, 'total_time': 0.099096905}, 'model_name': 'llama-3.3-70b-versatile', 'system_fingerprint': 'fp_155ab82e98', 'service_tier': 'on_demand', 'finish_reason': 'tool_calls', 'logprobs': None}, id='run--9647750d-4649-44f2-a033-5f824f9766ef-0', tool_calls=[{'name': 'motivation', 'args': {'motivation': 'You have what it takes'}, 'id': '2vnmv60b6', 'type': 'tool_call'}], usage_metadata={'input_tokens': 336, 'output_tokens': 20, 'total_tokens': 356}),\n",
       " ToolMessage(content='The sentence given is motivational', name='motivation', tool_call_id='2vnmv60b6'),\n",
       " HumanMessage(content='why are you running?', additional_kwargs={}, response_metadata={}),\n",
       " AIMessage(content='', additional_kwargs={'tool_calls': [{'id': '4ha57vkrw', 'function': {'arguments': 'null', 'name': 'question'}, 'type': 'function'}]}, response_metadata={'token_usage': {'completion_tokens': 8, 'prompt_tokens': 381, 'total_tokens': 389, 'completion_time': 0.022561414, 'prompt_time': 0.032190368, 'queue_time': 0.050490812, 'total_time': 0.054751782}, 'model_name': 'llama-3.3-70b-versatile', 'system_fingerprint': 'fp_2ddfbb0da0', 'service_tier': 'on_demand', 'finish_reason': 'tool_calls', 'logprobs': None}, id='run--6234da78-f9ce-488d-a831-1d9e9b8daf20-0', tool_calls=[{'name': 'question', 'args': {}, 'id': '4ha57vkrw', 'type': 'tool_call'}], usage_metadata={'input_tokens': 381, 'output_tokens': 8, 'total_tokens': 389}),\n",
       " ToolMessage(content='The sentence given is a question', name='question', tool_call_id='4ha57vkrw'),\n",
       " HumanMessage(content='I am going to the supermarket', additional_kwargs={}, response_metadata={}),\n",
       " AIMessage(content='', additional_kwargs={'tool_calls': [{'id': 'z87bvhf9q', 'function': {'arguments': '{}', 'name': 'statement'}, 'type': 'function'}]}, response_metadata={'token_usage': {'completion_tokens': 9, 'prompt_tokens': 417, 'total_tokens': 426, 'completion_time': 0.008951379, 'prompt_time': 0.056864334, 'queue_time': 0.046325376, 'total_time': 0.065815713}, 'model_name': 'llama-3.3-70b-versatile', 'system_fingerprint': 'fp_2ddfbb0da0', 'service_tier': 'on_demand', 'finish_reason': 'tool_calls', 'logprobs': None}, id='run--c80eb67c-e53a-43f7-80f3-a62d3857fa0e-0', tool_calls=[{'name': 'statement', 'args': {}, 'id': 'z87bvhf9q', 'type': 'tool_call'}], usage_metadata={'input_tokens': 417, 'output_tokens': 9, 'total_tokens': 426}),\n",
       " AIMessage(content='', additional_kwargs={'tool_calls': [{'id': 'z87bvhf9q', 'function': {'arguments': '{}', 'name': 'statement'}, 'type': 'function'}]}, response_metadata={'token_usage': {'completion_tokens': 9, 'prompt_tokens': 417, 'total_tokens': 426, 'completion_time': 0.008951379, 'prompt_time': 0.056864334, 'queue_time': 0.046325376, 'total_time': 0.065815713}, 'model_name': 'llama-3.3-70b-versatile', 'system_fingerprint': 'fp_2ddfbb0da0', 'service_tier': 'on_demand', 'finish_reason': 'tool_calls', 'logprobs': None}, id='run--c80eb67c-e53a-43f7-80f3-a62d3857fa0e-0', tool_calls=[{'name': 'statement', 'args': {}, 'id': 'z87bvhf9q', 'type': 'tool_call'}], usage_metadata={'input_tokens': 417, 'output_tokens': 9, 'total_tokens': 426}),\n",
       " ToolMessage(content='The sentence given is a statement', name='statement', tool_call_id='z87bvhf9q')]"
      ]
     },
     "execution_count": 51,
     "metadata": {},
     "output_type": "execute_result"
    }
   ],
   "source": [
    "# Execute the tool, append the response\n",
    "chat_history.append(tools_dict[response.tool_calls[0][\"name\"]].invoke(response.tool_calls[0]))\n",
    "chat_history"
   ]
  },
  {
   "cell_type": "code",
   "execution_count": 52,
   "id": "8658bb4e",
   "metadata": {},
   "outputs": [
    {
     "data": {
      "text/plain": [
       "[SystemMessage(content='You are a bot which analyses given sentences and identify what type of sentence it is and call appopriate tool functions', additional_kwargs={}, response_metadata={}),\n",
       " HumanMessage(content='Come on you have what it takes', additional_kwargs={}, response_metadata={}),\n",
       " AIMessage(content='', additional_kwargs={'tool_calls': [{'id': '2vnmv60b6', 'function': {'arguments': '{\"motivation\":\"You have what it takes\"}', 'name': 'motivation'}, 'type': 'function'}]}, response_metadata={'token_usage': {'completion_tokens': 20, 'prompt_tokens': 336, 'total_tokens': 356, 'completion_time': 0.051793633, 'prompt_time': 0.047303272, 'queue_time': 0.154617418, 'total_time': 0.099096905}, 'model_name': 'llama-3.3-70b-versatile', 'system_fingerprint': 'fp_155ab82e98', 'service_tier': 'on_demand', 'finish_reason': 'tool_calls', 'logprobs': None}, id='run--9647750d-4649-44f2-a033-5f824f9766ef-0', tool_calls=[{'name': 'motivation', 'args': {'motivation': 'You have what it takes'}, 'id': '2vnmv60b6', 'type': 'tool_call'}], usage_metadata={'input_tokens': 336, 'output_tokens': 20, 'total_tokens': 356}),\n",
       " ToolMessage(content='The sentence given is motivational', name='motivation', tool_call_id='2vnmv60b6'),\n",
       " HumanMessage(content='why are you running?', additional_kwargs={}, response_metadata={}),\n",
       " AIMessage(content='', additional_kwargs={'tool_calls': [{'id': '4ha57vkrw', 'function': {'arguments': 'null', 'name': 'question'}, 'type': 'function'}]}, response_metadata={'token_usage': {'completion_tokens': 8, 'prompt_tokens': 381, 'total_tokens': 389, 'completion_time': 0.022561414, 'prompt_time': 0.032190368, 'queue_time': 0.050490812, 'total_time': 0.054751782}, 'model_name': 'llama-3.3-70b-versatile', 'system_fingerprint': 'fp_2ddfbb0da0', 'service_tier': 'on_demand', 'finish_reason': 'tool_calls', 'logprobs': None}, id='run--6234da78-f9ce-488d-a831-1d9e9b8daf20-0', tool_calls=[{'name': 'question', 'args': {}, 'id': '4ha57vkrw', 'type': 'tool_call'}], usage_metadata={'input_tokens': 381, 'output_tokens': 8, 'total_tokens': 389}),\n",
       " ToolMessage(content='The sentence given is a question', name='question', tool_call_id='4ha57vkrw'),\n",
       " HumanMessage(content='I am going to the supermarket', additional_kwargs={}, response_metadata={}),\n",
       " AIMessage(content='', additional_kwargs={'tool_calls': [{'id': 'z87bvhf9q', 'function': {'arguments': '{}', 'name': 'statement'}, 'type': 'function'}]}, response_metadata={'token_usage': {'completion_tokens': 9, 'prompt_tokens': 417, 'total_tokens': 426, 'completion_time': 0.008951379, 'prompt_time': 0.056864334, 'queue_time': 0.046325376, 'total_time': 0.065815713}, 'model_name': 'llama-3.3-70b-versatile', 'system_fingerprint': 'fp_2ddfbb0da0', 'service_tier': 'on_demand', 'finish_reason': 'tool_calls', 'logprobs': None}, id='run--c80eb67c-e53a-43f7-80f3-a62d3857fa0e-0', tool_calls=[{'name': 'statement', 'args': {}, 'id': 'z87bvhf9q', 'type': 'tool_call'}], usage_metadata={'input_tokens': 417, 'output_tokens': 9, 'total_tokens': 426}),\n",
       " AIMessage(content='', additional_kwargs={'tool_calls': [{'id': 'z87bvhf9q', 'function': {'arguments': '{}', 'name': 'statement'}, 'type': 'function'}]}, response_metadata={'token_usage': {'completion_tokens': 9, 'prompt_tokens': 417, 'total_tokens': 426, 'completion_time': 0.008951379, 'prompt_time': 0.056864334, 'queue_time': 0.046325376, 'total_time': 0.065815713}, 'model_name': 'llama-3.3-70b-versatile', 'system_fingerprint': 'fp_2ddfbb0da0', 'service_tier': 'on_demand', 'finish_reason': 'tool_calls', 'logprobs': None}, id='run--c80eb67c-e53a-43f7-80f3-a62d3857fa0e-0', tool_calls=[{'name': 'statement', 'args': {}, 'id': 'z87bvhf9q', 'type': 'tool_call'}], usage_metadata={'input_tokens': 417, 'output_tokens': 9, 'total_tokens': 426}),\n",
       " ToolMessage(content='The sentence given is a statement', name='statement', tool_call_id='z87bvhf9q'),\n",
       " HumanMessage(content='Did I go to the supermarket', additional_kwargs={}, response_metadata={}),\n",
       " AIMessage(content='', additional_kwargs={'tool_calls': [{'id': 'mxpxkn5de', 'function': {'arguments': '{}', 'name': 'question'}, 'type': 'function'}]}, response_metadata={'token_usage': {'completion_tokens': 9, 'prompt_tokens': 466, 'total_tokens': 475, 'completion_time': 0.01512412, 'prompt_time': 0.047383797, 'queue_time': 0.045999053, 'total_time': 0.062507917}, 'model_name': 'llama-3.3-70b-versatile', 'system_fingerprint': 'fp_2ddfbb0da0', 'service_tier': 'on_demand', 'finish_reason': 'tool_calls', 'logprobs': None}, id='run--816e264a-66de-47d2-be5f-533a53810c93-0', tool_calls=[{'name': 'question', 'args': {}, 'id': 'mxpxkn5de', 'type': 'tool_call'}], usage_metadata={'input_tokens': 466, 'output_tokens': 9, 'total_tokens': 475})]"
      ]
     },
     "execution_count": 52,
     "metadata": {},
     "output_type": "execute_result"
    }
   ],
   "source": [
    "# lets see, if the model remebers the context\n",
    "chat_history.append(HumanMessage(content=\"Did I go to the supermarket\"))\n",
    "response = llm_with_tools.invoke(chat_history)\n",
    "chat_history.append(response)\n",
    "chat_history"
   ]
  },
  {
   "cell_type": "code",
   "execution_count": null,
   "id": "d1c1a2b3",
   "metadata": {},
   "outputs": [],
   "source": []
  }
 ],
 "metadata": {
  "kernelspec": {
   "display_name": "base",
   "language": "python",
   "name": "python3"
  },
  "language_info": {
   "codemirror_mode": {
    "name": "ipython",
    "version": 3
   },
   "file_extension": ".py",
   "mimetype": "text/x-python",
   "name": "python",
   "nbconvert_exporter": "python",
   "pygments_lexer": "ipython3",
   "version": "3.13.5"
  }
 },
 "nbformat": 4,
 "nbformat_minor": 5
}
